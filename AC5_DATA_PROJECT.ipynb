{
  "cells": [
    {
      "cell_type": "code",
      "execution_count": 1,
      "metadata": {
        "id": "phwZiL68t9r5"
      },
      "outputs": [],
      "source": [
        "import numpy as np\n",
        "import pandas as pd\n",
        "import DM_Utils as du"
      ]
    },
    {
      "cell_type": "code",
      "execution_count": 9,
      "metadata": {
        "id": "XEAvcKA2vBzW"
      },
      "outputs": [],
      "source": [
        "df = pd.read_csv('application_record.csv', sep=',')"
      ]
    },
    {
      "cell_type": "code",
      "execution_count": 10,
      "metadata": {
        "colab": {
          "base_uri": "https://localhost:8080/",
          "height": 514
        },
        "id": "7O2XvXN5T09R",
        "outputId": "2847f2d9-2c65-4c23-cda9-eccbb65076cf"
      },
      "outputs": [
        {
          "output_type": "execute_result",
          "data": {
            "text/plain": [
              "        ID CODE_GENDER FLAG_OWN_CAR FLAG_OWN_REALTY  CNT_CHILDREN  \\\n",
              "0  5008804           M            Y               Y             0   \n",
              "1  5008805           M            Y               Y             0   \n",
              "2  5008806           M            Y               Y             0   \n",
              "3  5008808           F            N               Y             0   \n",
              "4  5008809           F            N               Y             0   \n",
              "5  5008810           F            N               Y             0   \n",
              "6  5008811           F            N               Y             0   \n",
              "7  5008812           F            N               Y             0   \n",
              "8  5008813           F            N               Y             0   \n",
              "9  5008814           F            N               Y             0   \n",
              "\n",
              "   HAS_CREDIT_CARD  AMT_INCOME_TOTAL       NAME_INCOME_TYPE  \\\n",
              "0              0.0       $427,500.00                Working   \n",
              "1              1.0       $427,500.00                Working   \n",
              "2              1.0       $112,500.00                Working   \n",
              "3              1.0       $270,000.00   Commercial associate   \n",
              "4              0.0       $270,000.00   Commercial associate   \n",
              "5              1.0       $270,000.00   Commercial associate   \n",
              "6              1.0       $270,000.00   Commercial associate   \n",
              "7              1.0       $283,500.00              Pensioner   \n",
              "8              0.0       $283,500.00              Pensioner   \n",
              "9              0.0       $283,500.00              Pensioner   \n",
              "\n",
              "             NAME_EDUCATION_TYPE    NAME_FAMILY_STATUS  NAME_HOUSING_TYPE  \\\n",
              "0               Higher education        Civil marriage   Rented apartment   \n",
              "1               Higher education        Civil marriage   Rented apartment   \n",
              "2  Secondary / secondary special               Married  House / apartment   \n",
              "3  Secondary / secondary special  Single / not married  House / apartment   \n",
              "4  Secondary / secondary special  Single / not married  House / apartment   \n",
              "5  Secondary / secondary special  Single / not married  House / apartment   \n",
              "6  Secondary / secondary special  Single / not married  House / apartment   \n",
              "7               Higher education             Separated  House / apartment   \n",
              "8               Higher education             Separated  House / apartment   \n",
              "9               Higher education             Separated  House / apartment   \n",
              "\n",
              "   DAYS_BIRTH  DAYS_EMPLOYED  FLAG_MOBIL  FLAG_WORK_PHONE  FLAG_PHONE  \\\n",
              "0      -12005          -4542           1                1           0   \n",
              "1      -12005          -4542           1                1           0   \n",
              "2      -21474          -1134           1                0           0   \n",
              "3      -19110          -3051           1                0           1   \n",
              "4      -19110          -3051           1                0           1   \n",
              "5      -19110          -3051           1                0           1   \n",
              "6      -19110          -3051           1                0           1   \n",
              "7      -22464         365243           1                0           0   \n",
              "8      -22464         365243           1                0           0   \n",
              "9      -22464         365243           1                0           0   \n",
              "\n",
              "   FLAG_EMAIL OCCUPATION_TYPE  CNT_FAM_MEMBERS  \n",
              "0           0             NaN                2  \n",
              "1           0             NaN                2  \n",
              "2           0  Security staff                2  \n",
              "3           1     Sales staff                1  \n",
              "4           1     Sales staff                1  \n",
              "5           1     Sales staff                1  \n",
              "6           1     Sales staff                1  \n",
              "7           0             NaN                1  \n",
              "8           0             NaN                1  \n",
              "9           0             NaN                1  "
            ],
            "text/html": [
              "\n",
              "  <div id=\"df-d652d72f-d605-49ce-88be-c334c3c76a2b\">\n",
              "    <div class=\"colab-df-container\">\n",
              "      <div>\n",
              "<style scoped>\n",
              "    .dataframe tbody tr th:only-of-type {\n",
              "        vertical-align: middle;\n",
              "    }\n",
              "\n",
              "    .dataframe tbody tr th {\n",
              "        vertical-align: top;\n",
              "    }\n",
              "\n",
              "    .dataframe thead th {\n",
              "        text-align: right;\n",
              "    }\n",
              "</style>\n",
              "<table border=\"1\" class=\"dataframe\">\n",
              "  <thead>\n",
              "    <tr style=\"text-align: right;\">\n",
              "      <th></th>\n",
              "      <th>ID</th>\n",
              "      <th>CODE_GENDER</th>\n",
              "      <th>FLAG_OWN_CAR</th>\n",
              "      <th>FLAG_OWN_REALTY</th>\n",
              "      <th>CNT_CHILDREN</th>\n",
              "      <th>HAS_CREDIT_CARD</th>\n",
              "      <th>AMT_INCOME_TOTAL</th>\n",
              "      <th>NAME_INCOME_TYPE</th>\n",
              "      <th>NAME_EDUCATION_TYPE</th>\n",
              "      <th>NAME_FAMILY_STATUS</th>\n",
              "      <th>NAME_HOUSING_TYPE</th>\n",
              "      <th>DAYS_BIRTH</th>\n",
              "      <th>DAYS_EMPLOYED</th>\n",
              "      <th>FLAG_MOBIL</th>\n",
              "      <th>FLAG_WORK_PHONE</th>\n",
              "      <th>FLAG_PHONE</th>\n",
              "      <th>FLAG_EMAIL</th>\n",
              "      <th>OCCUPATION_TYPE</th>\n",
              "      <th>CNT_FAM_MEMBERS</th>\n",
              "    </tr>\n",
              "  </thead>\n",
              "  <tbody>\n",
              "    <tr>\n",
              "      <th>0</th>\n",
              "      <td>5008804</td>\n",
              "      <td>M</td>\n",
              "      <td>Y</td>\n",
              "      <td>Y</td>\n",
              "      <td>0</td>\n",
              "      <td>0.0</td>\n",
              "      <td>$427,500.00</td>\n",
              "      <td>Working</td>\n",
              "      <td>Higher education</td>\n",
              "      <td>Civil marriage</td>\n",
              "      <td>Rented apartment</td>\n",
              "      <td>-12005</td>\n",
              "      <td>-4542</td>\n",
              "      <td>1</td>\n",
              "      <td>1</td>\n",
              "      <td>0</td>\n",
              "      <td>0</td>\n",
              "      <td>NaN</td>\n",
              "      <td>2</td>\n",
              "    </tr>\n",
              "    <tr>\n",
              "      <th>1</th>\n",
              "      <td>5008805</td>\n",
              "      <td>M</td>\n",
              "      <td>Y</td>\n",
              "      <td>Y</td>\n",
              "      <td>0</td>\n",
              "      <td>1.0</td>\n",
              "      <td>$427,500.00</td>\n",
              "      <td>Working</td>\n",
              "      <td>Higher education</td>\n",
              "      <td>Civil marriage</td>\n",
              "      <td>Rented apartment</td>\n",
              "      <td>-12005</td>\n",
              "      <td>-4542</td>\n",
              "      <td>1</td>\n",
              "      <td>1</td>\n",
              "      <td>0</td>\n",
              "      <td>0</td>\n",
              "      <td>NaN</td>\n",
              "      <td>2</td>\n",
              "    </tr>\n",
              "    <tr>\n",
              "      <th>2</th>\n",
              "      <td>5008806</td>\n",
              "      <td>M</td>\n",
              "      <td>Y</td>\n",
              "      <td>Y</td>\n",
              "      <td>0</td>\n",
              "      <td>1.0</td>\n",
              "      <td>$112,500.00</td>\n",
              "      <td>Working</td>\n",
              "      <td>Secondary / secondary special</td>\n",
              "      <td>Married</td>\n",
              "      <td>House / apartment</td>\n",
              "      <td>-21474</td>\n",
              "      <td>-1134</td>\n",
              "      <td>1</td>\n",
              "      <td>0</td>\n",
              "      <td>0</td>\n",
              "      <td>0</td>\n",
              "      <td>Security staff</td>\n",
              "      <td>2</td>\n",
              "    </tr>\n",
              "    <tr>\n",
              "      <th>3</th>\n",
              "      <td>5008808</td>\n",
              "      <td>F</td>\n",
              "      <td>N</td>\n",
              "      <td>Y</td>\n",
              "      <td>0</td>\n",
              "      <td>1.0</td>\n",
              "      <td>$270,000.00</td>\n",
              "      <td>Commercial associate</td>\n",
              "      <td>Secondary / secondary special</td>\n",
              "      <td>Single / not married</td>\n",
              "      <td>House / apartment</td>\n",
              "      <td>-19110</td>\n",
              "      <td>-3051</td>\n",
              "      <td>1</td>\n",
              "      <td>0</td>\n",
              "      <td>1</td>\n",
              "      <td>1</td>\n",
              "      <td>Sales staff</td>\n",
              "      <td>1</td>\n",
              "    </tr>\n",
              "    <tr>\n",
              "      <th>4</th>\n",
              "      <td>5008809</td>\n",
              "      <td>F</td>\n",
              "      <td>N</td>\n",
              "      <td>Y</td>\n",
              "      <td>0</td>\n",
              "      <td>0.0</td>\n",
              "      <td>$270,000.00</td>\n",
              "      <td>Commercial associate</td>\n",
              "      <td>Secondary / secondary special</td>\n",
              "      <td>Single / not married</td>\n",
              "      <td>House / apartment</td>\n",
              "      <td>-19110</td>\n",
              "      <td>-3051</td>\n",
              "      <td>1</td>\n",
              "      <td>0</td>\n",
              "      <td>1</td>\n",
              "      <td>1</td>\n",
              "      <td>Sales staff</td>\n",
              "      <td>1</td>\n",
              "    </tr>\n",
              "    <tr>\n",
              "      <th>5</th>\n",
              "      <td>5008810</td>\n",
              "      <td>F</td>\n",
              "      <td>N</td>\n",
              "      <td>Y</td>\n",
              "      <td>0</td>\n",
              "      <td>1.0</td>\n",
              "      <td>$270,000.00</td>\n",
              "      <td>Commercial associate</td>\n",
              "      <td>Secondary / secondary special</td>\n",
              "      <td>Single / not married</td>\n",
              "      <td>House / apartment</td>\n",
              "      <td>-19110</td>\n",
              "      <td>-3051</td>\n",
              "      <td>1</td>\n",
              "      <td>0</td>\n",
              "      <td>1</td>\n",
              "      <td>1</td>\n",
              "      <td>Sales staff</td>\n",
              "      <td>1</td>\n",
              "    </tr>\n",
              "    <tr>\n",
              "      <th>6</th>\n",
              "      <td>5008811</td>\n",
              "      <td>F</td>\n",
              "      <td>N</td>\n",
              "      <td>Y</td>\n",
              "      <td>0</td>\n",
              "      <td>1.0</td>\n",
              "      <td>$270,000.00</td>\n",
              "      <td>Commercial associate</td>\n",
              "      <td>Secondary / secondary special</td>\n",
              "      <td>Single / not married</td>\n",
              "      <td>House / apartment</td>\n",
              "      <td>-19110</td>\n",
              "      <td>-3051</td>\n",
              "      <td>1</td>\n",
              "      <td>0</td>\n",
              "      <td>1</td>\n",
              "      <td>1</td>\n",
              "      <td>Sales staff</td>\n",
              "      <td>1</td>\n",
              "    </tr>\n",
              "    <tr>\n",
              "      <th>7</th>\n",
              "      <td>5008812</td>\n",
              "      <td>F</td>\n",
              "      <td>N</td>\n",
              "      <td>Y</td>\n",
              "      <td>0</td>\n",
              "      <td>1.0</td>\n",
              "      <td>$283,500.00</td>\n",
              "      <td>Pensioner</td>\n",
              "      <td>Higher education</td>\n",
              "      <td>Separated</td>\n",
              "      <td>House / apartment</td>\n",
              "      <td>-22464</td>\n",
              "      <td>365243</td>\n",
              "      <td>1</td>\n",
              "      <td>0</td>\n",
              "      <td>0</td>\n",
              "      <td>0</td>\n",
              "      <td>NaN</td>\n",
              "      <td>1</td>\n",
              "    </tr>\n",
              "    <tr>\n",
              "      <th>8</th>\n",
              "      <td>5008813</td>\n",
              "      <td>F</td>\n",
              "      <td>N</td>\n",
              "      <td>Y</td>\n",
              "      <td>0</td>\n",
              "      <td>0.0</td>\n",
              "      <td>$283,500.00</td>\n",
              "      <td>Pensioner</td>\n",
              "      <td>Higher education</td>\n",
              "      <td>Separated</td>\n",
              "      <td>House / apartment</td>\n",
              "      <td>-22464</td>\n",
              "      <td>365243</td>\n",
              "      <td>1</td>\n",
              "      <td>0</td>\n",
              "      <td>0</td>\n",
              "      <td>0</td>\n",
              "      <td>NaN</td>\n",
              "      <td>1</td>\n",
              "    </tr>\n",
              "    <tr>\n",
              "      <th>9</th>\n",
              "      <td>5008814</td>\n",
              "      <td>F</td>\n",
              "      <td>N</td>\n",
              "      <td>Y</td>\n",
              "      <td>0</td>\n",
              "      <td>0.0</td>\n",
              "      <td>$283,500.00</td>\n",
              "      <td>Pensioner</td>\n",
              "      <td>Higher education</td>\n",
              "      <td>Separated</td>\n",
              "      <td>House / apartment</td>\n",
              "      <td>-22464</td>\n",
              "      <td>365243</td>\n",
              "      <td>1</td>\n",
              "      <td>0</td>\n",
              "      <td>0</td>\n",
              "      <td>0</td>\n",
              "      <td>NaN</td>\n",
              "      <td>1</td>\n",
              "    </tr>\n",
              "  </tbody>\n",
              "</table>\n",
              "</div>\n",
              "      <button class=\"colab-df-convert\" onclick=\"convertToInteractive('df-d652d72f-d605-49ce-88be-c334c3c76a2b')\"\n",
              "              title=\"Convert this dataframe to an interactive table.\"\n",
              "              style=\"display:none;\">\n",
              "        \n",
              "  <svg xmlns=\"http://www.w3.org/2000/svg\" height=\"24px\"viewBox=\"0 0 24 24\"\n",
              "       width=\"24px\">\n",
              "    <path d=\"M0 0h24v24H0V0z\" fill=\"none\"/>\n",
              "    <path d=\"M18.56 5.44l.94 2.06.94-2.06 2.06-.94-2.06-.94-.94-2.06-.94 2.06-2.06.94zm-11 1L8.5 8.5l.94-2.06 2.06-.94-2.06-.94L8.5 2.5l-.94 2.06-2.06.94zm10 10l.94 2.06.94-2.06 2.06-.94-2.06-.94-.94-2.06-.94 2.06-2.06.94z\"/><path d=\"M17.41 7.96l-1.37-1.37c-.4-.4-.92-.59-1.43-.59-.52 0-1.04.2-1.43.59L10.3 9.45l-7.72 7.72c-.78.78-.78 2.05 0 2.83L4 21.41c.39.39.9.59 1.41.59.51 0 1.02-.2 1.41-.59l7.78-7.78 2.81-2.81c.8-.78.8-2.07 0-2.86zM5.41 20L4 18.59l7.72-7.72 1.47 1.35L5.41 20z\"/>\n",
              "  </svg>\n",
              "      </button>\n",
              "      \n",
              "  <style>\n",
              "    .colab-df-container {\n",
              "      display:flex;\n",
              "      flex-wrap:wrap;\n",
              "      gap: 12px;\n",
              "    }\n",
              "\n",
              "    .colab-df-convert {\n",
              "      background-color: #E8F0FE;\n",
              "      border: none;\n",
              "      border-radius: 50%;\n",
              "      cursor: pointer;\n",
              "      display: none;\n",
              "      fill: #1967D2;\n",
              "      height: 32px;\n",
              "      padding: 0 0 0 0;\n",
              "      width: 32px;\n",
              "    }\n",
              "\n",
              "    .colab-df-convert:hover {\n",
              "      background-color: #E2EBFA;\n",
              "      box-shadow: 0px 1px 2px rgba(60, 64, 67, 0.3), 0px 1px 3px 1px rgba(60, 64, 67, 0.15);\n",
              "      fill: #174EA6;\n",
              "    }\n",
              "\n",
              "    [theme=dark] .colab-df-convert {\n",
              "      background-color: #3B4455;\n",
              "      fill: #D2E3FC;\n",
              "    }\n",
              "\n",
              "    [theme=dark] .colab-df-convert:hover {\n",
              "      background-color: #434B5C;\n",
              "      box-shadow: 0px 1px 3px 1px rgba(0, 0, 0, 0.15);\n",
              "      filter: drop-shadow(0px 1px 2px rgba(0, 0, 0, 0.3));\n",
              "      fill: #FFFFFF;\n",
              "    }\n",
              "  </style>\n",
              "\n",
              "      <script>\n",
              "        const buttonEl =\n",
              "          document.querySelector('#df-d652d72f-d605-49ce-88be-c334c3c76a2b button.colab-df-convert');\n",
              "        buttonEl.style.display =\n",
              "          google.colab.kernel.accessAllowed ? 'block' : 'none';\n",
              "\n",
              "        async function convertToInteractive(key) {\n",
              "          const element = document.querySelector('#df-d652d72f-d605-49ce-88be-c334c3c76a2b');\n",
              "          const dataTable =\n",
              "            await google.colab.kernel.invokeFunction('convertToInteractive',\n",
              "                                                     [key], {});\n",
              "          if (!dataTable) return;\n",
              "\n",
              "          const docLinkHtml = 'Like what you see? Visit the ' +\n",
              "            '<a target=\"_blank\" href=https://colab.research.google.com/notebooks/data_table.ipynb>data table notebook</a>'\n",
              "            + ' to learn more about interactive tables.';\n",
              "          element.innerHTML = '';\n",
              "          dataTable['output_type'] = 'display_data';\n",
              "          await google.colab.output.renderOutput(dataTable, element);\n",
              "          const docLink = document.createElement('div');\n",
              "          docLink.innerHTML = docLinkHtml;\n",
              "          element.appendChild(docLink);\n",
              "        }\n",
              "      </script>\n",
              "    </div>\n",
              "  </div>\n",
              "  "
            ]
          },
          "metadata": {},
          "execution_count": 10
        }
      ],
      "source": [
        "df.head(10)"
      ]
    },
    {
      "cell_type": "code",
      "execution_count": 11,
      "metadata": {
        "id": "_CJYwz1WvJde"
      },
      "outputs": [],
      "source": [
        "#Remove os espaços em branco nas colunas\n",
        "for coluna in df.columns:\n",
        "    novo_nome = coluna.replace(' ', '') # remove os espaços em branco\n",
        "    df = df.rename(columns={coluna: novo_nome}) # renomeia a coluna"
      ]
    },
    {
      "cell_type": "code",
      "execution_count": 13,
      "metadata": {
        "id": "ZxsX-OB2NmWq"
      },
      "outputs": [],
      "source": [
        "#------------------------------------------------------------------------------------------\n",
        "# Pré-processamento das variáveis\n",
        "#------------------------------------------------------------------------------------------"
      ]
    },
    {
      "cell_type": "code",
      "execution_count": 14,
      "metadata": {
        "id": "VYgXpNp4NpTc"
      },
      "outputs": [],
      "source": [
        "## Tratamento de nulos e normalização --- Variáveis de entrada numéricas\n",
        "# Faz o tratamento da variavel de AMOUNT INCOME\n",
        "df['AMT_INCOME_TOTAL'] = df['AMT_INCOME_TOTAL'].apply(lambda x: x.strip())\n",
        "df['AMT_INCOME_TOTAL'] = df['AMT_INCOME_TOTAL'].apply(lambda x: x.replace(',', ''))\n",
        "df['AMT_INCOME_TOTAL'] = df['AMT_INCOME_TOTAL'].apply(lambda x: x.replace('$', '').replace('.', ''))#.replace(',', '.'))\n",
        "# Converte para FLOAT\n",
        "df['AMT_INCOME_TOTAL'] = df['AMT_INCOME_TOTAL'].astype(float)"
      ]
    },
    {
      "cell_type": "markdown",
      "source": [],
      "metadata": {
        "id": "CWqg7ZDVJgIr"
      }
    },
    {
      "cell_type": "code",
      "execution_count": 16,
      "metadata": {
        "id": "TPLyKfXJNkWi"
      },
      "outputs": [],
      "source": [
        "##--- Dummies - transformação de atributos categóricos em numéricos e tratamanto de nulos ---------------\n",
        "df['CODE_GENDER'] = [1 if x == 'F' else 0 for x in df ['CODE_GENDER']]\n",
        "df['FLAG_OWN_CAR'] = [1 if x == 'Y' else 0 for x in df['FLAG_OWN_CAR']]\n",
        "df['FLAG_OWN_REALTY'] = [1 if x == 'Y' else 0 for x in df['FLAG_OWN_REALTY']]\n",
        "df['CNT_CHILDREN'] = [1 if x <= 1 else 0 for x in df['CNT_CHILDREN']]\n",
        "df['AMT_INCOME_TOTAL'] = [1 if x <= 50000 else 0 for x in df['AMT_INCOME_TOTAL']]\n",
        "\n",
        "df['PRE_WORKING'] = [1 if x == 'Working' else 0 for x in df['NAME_INCOME_TYPE']]\n",
        "df['PRE_COMMERCIAL_ASSOCIATE'] = [1 if x == 'Commercial associate' else 0 for x in df['NAME_INCOME_TYPE']]\n",
        "\n",
        "\n",
        "df['PRE_EDUCATIO_HIGHER'] = [1 if x == 'Higher education' else 0 for x in df['NAME_EDUCATION_TYPE']]\n",
        "df['PRE_EDUCATION_INCOMPLETE'] = [1 if x == 'Incomplete higher' else 0 for x in df['NAME_EDUCATION_TYPE']]\n",
        "\n",
        "df['NAME_FAMILY_STATUS'] = [1 if x == 'Marriage' else 0 for x in df['NAME_FAMILY_STATUS']]\n",
        "# df['FLAG_PHONE'] = [1 if x == 'Y' else 0 for x in df['FLAG_PHONE']]\n",
        "\n",
        "\n"
      ]
    },
    {
      "cell_type": "code",
      "execution_count": 17,
      "metadata": {
        "id": "u7X4gw1mhaWx"
      },
      "outputs": [],
      "source": [
        "df = df.drop('NAME_INCOME_TYPE', axis=1) \n",
        "df = df.drop('NAME_EDUCATION_TYPE', axis=1)\n",
        "df = df.drop('NAME_FAMILY_STATUS', axis=1)\n",
        "df = df.drop('NAME_HOUSING_TYPE', axis=1)\n",
        "df = df.drop('DAYS_BIRTH', axis=1) \n",
        "df = df.drop('DAYS_EMPLOYED', axis=1)\n",
        "df = df.drop('FLAG_MOBIL', axis=1)\n",
        "df = df.drop('FLAG_WORK_PHONE', axis=1)\n",
        "df = df.drop('FLAG_PHONE', axis=1)\n",
        "df = df.drop('FLAG_EMAIL', axis=1)\n",
        "df = df.drop('OCCUPATION_TYPE', axis=1)\n",
        "df = df.drop('CNT_FAM_MEMBERS', axis=1)"
      ]
    },
    {
      "cell_type": "code",
      "execution_count": 18,
      "metadata": {
        "id": "Q227-r48Mx0e"
      },
      "outputs": [],
      "source": [
        "# Atribui 0 para os valores nulos para a variável ALVO \n",
        "df['HAS_CREDIT_CARD'].fillna(0, inplace=True)\n",
        "df['ALVO'] = df['HAS_CREDIT_CARD']\n",
        "df['ALVO'] = df['ALVO'].astype(int)\n",
        "df = df.drop('HAS_CREDIT_CARD', axis = 1)"
      ]
    },
    {
      "cell_type": "code",
      "execution_count": 19,
      "metadata": {
        "colab": {
          "base_uri": "https://localhost:8080/",
          "height": 145
        },
        "id": "pZqBMLA1NzTx",
        "outputId": "469c18bd-9086-4366-8f23-c61df9ba81f2"
      },
      "outputs": [
        {
          "output_type": "execute_result",
          "data": {
            "text/plain": [
              "        ID  CODE_GENDER  FLAG_OWN_CAR  FLAG_OWN_REALTY  CNT_CHILDREN  \\\n",
              "0  5008804            0             1                1             1   \n",
              "\n",
              "   AMT_INCOME_TOTAL  PRE_WORKING  PRE_COMMERCIAL_ASSOCIATE  \\\n",
              "0                 0            1                         0   \n",
              "\n",
              "   PRE_EDUCATIO_HIGHER  PRE_EDUCATION_INCOMPLETE  ALVO  \n",
              "0                    1                         0     0  "
            ],
            "text/html": [
              "\n",
              "  <div id=\"df-ce0bac83-e6f9-461c-ba87-c1508aec2669\">\n",
              "    <div class=\"colab-df-container\">\n",
              "      <div>\n",
              "<style scoped>\n",
              "    .dataframe tbody tr th:only-of-type {\n",
              "        vertical-align: middle;\n",
              "    }\n",
              "\n",
              "    .dataframe tbody tr th {\n",
              "        vertical-align: top;\n",
              "    }\n",
              "\n",
              "    .dataframe thead th {\n",
              "        text-align: right;\n",
              "    }\n",
              "</style>\n",
              "<table border=\"1\" class=\"dataframe\">\n",
              "  <thead>\n",
              "    <tr style=\"text-align: right;\">\n",
              "      <th></th>\n",
              "      <th>ID</th>\n",
              "      <th>CODE_GENDER</th>\n",
              "      <th>FLAG_OWN_CAR</th>\n",
              "      <th>FLAG_OWN_REALTY</th>\n",
              "      <th>CNT_CHILDREN</th>\n",
              "      <th>AMT_INCOME_TOTAL</th>\n",
              "      <th>PRE_WORKING</th>\n",
              "      <th>PRE_COMMERCIAL_ASSOCIATE</th>\n",
              "      <th>PRE_EDUCATIO_HIGHER</th>\n",
              "      <th>PRE_EDUCATION_INCOMPLETE</th>\n",
              "      <th>ALVO</th>\n",
              "    </tr>\n",
              "  </thead>\n",
              "  <tbody>\n",
              "    <tr>\n",
              "      <th>0</th>\n",
              "      <td>5008804</td>\n",
              "      <td>0</td>\n",
              "      <td>1</td>\n",
              "      <td>1</td>\n",
              "      <td>1</td>\n",
              "      <td>0</td>\n",
              "      <td>1</td>\n",
              "      <td>0</td>\n",
              "      <td>1</td>\n",
              "      <td>0</td>\n",
              "      <td>0</td>\n",
              "    </tr>\n",
              "  </tbody>\n",
              "</table>\n",
              "</div>\n",
              "      <button class=\"colab-df-convert\" onclick=\"convertToInteractive('df-ce0bac83-e6f9-461c-ba87-c1508aec2669')\"\n",
              "              title=\"Convert this dataframe to an interactive table.\"\n",
              "              style=\"display:none;\">\n",
              "        \n",
              "  <svg xmlns=\"http://www.w3.org/2000/svg\" height=\"24px\"viewBox=\"0 0 24 24\"\n",
              "       width=\"24px\">\n",
              "    <path d=\"M0 0h24v24H0V0z\" fill=\"none\"/>\n",
              "    <path d=\"M18.56 5.44l.94 2.06.94-2.06 2.06-.94-2.06-.94-.94-2.06-.94 2.06-2.06.94zm-11 1L8.5 8.5l.94-2.06 2.06-.94-2.06-.94L8.5 2.5l-.94 2.06-2.06.94zm10 10l.94 2.06.94-2.06 2.06-.94-2.06-.94-.94-2.06-.94 2.06-2.06.94z\"/><path d=\"M17.41 7.96l-1.37-1.37c-.4-.4-.92-.59-1.43-.59-.52 0-1.04.2-1.43.59L10.3 9.45l-7.72 7.72c-.78.78-.78 2.05 0 2.83L4 21.41c.39.39.9.59 1.41.59.51 0 1.02-.2 1.41-.59l7.78-7.78 2.81-2.81c.8-.78.8-2.07 0-2.86zM5.41 20L4 18.59l7.72-7.72 1.47 1.35L5.41 20z\"/>\n",
              "  </svg>\n",
              "      </button>\n",
              "      \n",
              "  <style>\n",
              "    .colab-df-container {\n",
              "      display:flex;\n",
              "      flex-wrap:wrap;\n",
              "      gap: 12px;\n",
              "    }\n",
              "\n",
              "    .colab-df-convert {\n",
              "      background-color: #E8F0FE;\n",
              "      border: none;\n",
              "      border-radius: 50%;\n",
              "      cursor: pointer;\n",
              "      display: none;\n",
              "      fill: #1967D2;\n",
              "      height: 32px;\n",
              "      padding: 0 0 0 0;\n",
              "      width: 32px;\n",
              "    }\n",
              "\n",
              "    .colab-df-convert:hover {\n",
              "      background-color: #E2EBFA;\n",
              "      box-shadow: 0px 1px 2px rgba(60, 64, 67, 0.3), 0px 1px 3px 1px rgba(60, 64, 67, 0.15);\n",
              "      fill: #174EA6;\n",
              "    }\n",
              "\n",
              "    [theme=dark] .colab-df-convert {\n",
              "      background-color: #3B4455;\n",
              "      fill: #D2E3FC;\n",
              "    }\n",
              "\n",
              "    [theme=dark] .colab-df-convert:hover {\n",
              "      background-color: #434B5C;\n",
              "      box-shadow: 0px 1px 3px 1px rgba(0, 0, 0, 0.15);\n",
              "      filter: drop-shadow(0px 1px 2px rgba(0, 0, 0, 0.3));\n",
              "      fill: #FFFFFF;\n",
              "    }\n",
              "  </style>\n",
              "\n",
              "      <script>\n",
              "        const buttonEl =\n",
              "          document.querySelector('#df-ce0bac83-e6f9-461c-ba87-c1508aec2669 button.colab-df-convert');\n",
              "        buttonEl.style.display =\n",
              "          google.colab.kernel.accessAllowed ? 'block' : 'none';\n",
              "\n",
              "        async function convertToInteractive(key) {\n",
              "          const element = document.querySelector('#df-ce0bac83-e6f9-461c-ba87-c1508aec2669');\n",
              "          const dataTable =\n",
              "            await google.colab.kernel.invokeFunction('convertToInteractive',\n",
              "                                                     [key], {});\n",
              "          if (!dataTable) return;\n",
              "\n",
              "          const docLinkHtml = 'Like what you see? Visit the ' +\n",
              "            '<a target=\"_blank\" href=https://colab.research.google.com/notebooks/data_table.ipynb>data table notebook</a>'\n",
              "            + ' to learn more about interactive tables.';\n",
              "          element.innerHTML = '';\n",
              "          dataTable['output_type'] = 'display_data';\n",
              "          await google.colab.output.renderOutput(dataTable, element);\n",
              "          const docLink = document.createElement('div');\n",
              "          docLink.innerHTML = docLinkHtml;\n",
              "          element.appendChild(docLink);\n",
              "        }\n",
              "      </script>\n",
              "    </div>\n",
              "  </div>\n",
              "  "
            ]
          },
          "metadata": {},
          "execution_count": 19
        }
      ],
      "source": [
        "df.head(1)"
      ]
    },
    {
      "cell_type": "code",
      "execution_count": 20,
      "metadata": {
        "id": "uaGK1dlivQBI"
      },
      "outputs": [],
      "source": [
        "##------------------------------------------------------------\n",
        "## Separando em dados de treinamento e teste\n",
        "##------------------------------------------------------------\n",
        "y = df['ALVO']  #Carrega a variável alvo \n",
        "X = df.iloc[:,1:9].values #Carrega as colunas\n",
        "\n",
        "from sklearn.model_selection import train_test_split\n",
        "X_train, X_test, y_train, y_test = train_test_split(X, y, test_size = 0.25, random_state = 25) "
      ]
    },
    {
      "cell_type": "code",
      "execution_count": 21,
      "metadata": {
        "colab": {
          "base_uri": "https://localhost:8080/",
          "height": 75
        },
        "id": "0clBx80ZRTIj",
        "outputId": "a40368bd-8562-46f3-cb85-6f3e4042cecb"
      },
      "outputs": [
        {
          "output_type": "execute_result",
          "data": {
            "text/plain": [
              "LogisticRegression()"
            ],
            "text/html": [
              "<style>#sk-container-id-1 {color: black;background-color: white;}#sk-container-id-1 pre{padding: 0;}#sk-container-id-1 div.sk-toggleable {background-color: white;}#sk-container-id-1 label.sk-toggleable__label {cursor: pointer;display: block;width: 100%;margin-bottom: 0;padding: 0.3em;box-sizing: border-box;text-align: center;}#sk-container-id-1 label.sk-toggleable__label-arrow:before {content: \"▸\";float: left;margin-right: 0.25em;color: #696969;}#sk-container-id-1 label.sk-toggleable__label-arrow:hover:before {color: black;}#sk-container-id-1 div.sk-estimator:hover label.sk-toggleable__label-arrow:before {color: black;}#sk-container-id-1 div.sk-toggleable__content {max-height: 0;max-width: 0;overflow: hidden;text-align: left;background-color: #f0f8ff;}#sk-container-id-1 div.sk-toggleable__content pre {margin: 0.2em;color: black;border-radius: 0.25em;background-color: #f0f8ff;}#sk-container-id-1 input.sk-toggleable__control:checked~div.sk-toggleable__content {max-height: 200px;max-width: 100%;overflow: auto;}#sk-container-id-1 input.sk-toggleable__control:checked~label.sk-toggleable__label-arrow:before {content: \"▾\";}#sk-container-id-1 div.sk-estimator input.sk-toggleable__control:checked~label.sk-toggleable__label {background-color: #d4ebff;}#sk-container-id-1 div.sk-label input.sk-toggleable__control:checked~label.sk-toggleable__label {background-color: #d4ebff;}#sk-container-id-1 input.sk-hidden--visually {border: 0;clip: rect(1px 1px 1px 1px);clip: rect(1px, 1px, 1px, 1px);height: 1px;margin: -1px;overflow: hidden;padding: 0;position: absolute;width: 1px;}#sk-container-id-1 div.sk-estimator {font-family: monospace;background-color: #f0f8ff;border: 1px dotted black;border-radius: 0.25em;box-sizing: border-box;margin-bottom: 0.5em;}#sk-container-id-1 div.sk-estimator:hover {background-color: #d4ebff;}#sk-container-id-1 div.sk-parallel-item::after {content: \"\";width: 100%;border-bottom: 1px solid gray;flex-grow: 1;}#sk-container-id-1 div.sk-label:hover label.sk-toggleable__label {background-color: #d4ebff;}#sk-container-id-1 div.sk-serial::before {content: \"\";position: absolute;border-left: 1px solid gray;box-sizing: border-box;top: 0;bottom: 0;left: 50%;z-index: 0;}#sk-container-id-1 div.sk-serial {display: flex;flex-direction: column;align-items: center;background-color: white;padding-right: 0.2em;padding-left: 0.2em;position: relative;}#sk-container-id-1 div.sk-item {position: relative;z-index: 1;}#sk-container-id-1 div.sk-parallel {display: flex;align-items: stretch;justify-content: center;background-color: white;position: relative;}#sk-container-id-1 div.sk-item::before, #sk-container-id-1 div.sk-parallel-item::before {content: \"\";position: absolute;border-left: 1px solid gray;box-sizing: border-box;top: 0;bottom: 0;left: 50%;z-index: -1;}#sk-container-id-1 div.sk-parallel-item {display: flex;flex-direction: column;z-index: 1;position: relative;background-color: white;}#sk-container-id-1 div.sk-parallel-item:first-child::after {align-self: flex-end;width: 50%;}#sk-container-id-1 div.sk-parallel-item:last-child::after {align-self: flex-start;width: 50%;}#sk-container-id-1 div.sk-parallel-item:only-child::after {width: 0;}#sk-container-id-1 div.sk-dashed-wrapped {border: 1px dashed gray;margin: 0 0.4em 0.5em 0.4em;box-sizing: border-box;padding-bottom: 0.4em;background-color: white;}#sk-container-id-1 div.sk-label label {font-family: monospace;font-weight: bold;display: inline-block;line-height: 1.2em;}#sk-container-id-1 div.sk-label-container {text-align: center;}#sk-container-id-1 div.sk-container {/* jupyter's `normalize.less` sets `[hidden] { display: none; }` but bootstrap.min.css set `[hidden] { display: none !important; }` so we also need the `!important` here to be able to override the default hidden behavior on the sphinx rendered scikit-learn.org. See: https://github.com/scikit-learn/scikit-learn/issues/21755 */display: inline-block !important;position: relative;}#sk-container-id-1 div.sk-text-repr-fallback {display: none;}</style><div id=\"sk-container-id-1\" class=\"sk-top-container\"><div class=\"sk-text-repr-fallback\"><pre>LogisticRegression()</pre><b>In a Jupyter environment, please rerun this cell to show the HTML representation or trust the notebook. <br />On GitHub, the HTML representation is unable to render, please try loading this page with nbviewer.org.</b></div><div class=\"sk-container\" hidden><div class=\"sk-item\"><div class=\"sk-estimator sk-toggleable\"><input class=\"sk-toggleable__control sk-hidden--visually\" id=\"sk-estimator-id-1\" type=\"checkbox\" checked><label for=\"sk-estimator-id-1\" class=\"sk-toggleable__label sk-toggleable__label-arrow\">LogisticRegression</label><div class=\"sk-toggleable__content\"><pre>LogisticRegression()</pre></div></div></div></div></div>"
            ]
          },
          "metadata": {},
          "execution_count": 21
        }
      ],
      "source": [
        "#---------------------------------------------------------------------------\n",
        "## Ajustando - Aprendizado supervisionado  \n",
        "#---------------------------------------------------------------------------\n",
        "# Regressão logística com dados de treinamento\n",
        "from sklearn.linear_model import LogisticRegression\n",
        "LogisticReg = LogisticRegression()\n",
        "LogisticReg.fit(X_train, y_train)\n"
      ]
    },
    {
      "cell_type": "code",
      "execution_count": 22,
      "metadata": {
        "colab": {
          "base_uri": "https://localhost:8080/",
          "height": 92
        },
        "id": "yJyfbtSERTEp",
        "outputId": "9b6c20c7-3190-41c7-8b75-e606f2604bc2"
      },
      "outputs": [
        {
          "output_type": "execute_result",
          "data": {
            "text/plain": [
              "DecisionTreeClassifier(criterion='entropy', min_samples_leaf=100,\n",
              "                       min_samples_split=200, random_state=0)"
            ],
            "text/html": [
              "<style>#sk-container-id-2 {color: black;background-color: white;}#sk-container-id-2 pre{padding: 0;}#sk-container-id-2 div.sk-toggleable {background-color: white;}#sk-container-id-2 label.sk-toggleable__label {cursor: pointer;display: block;width: 100%;margin-bottom: 0;padding: 0.3em;box-sizing: border-box;text-align: center;}#sk-container-id-2 label.sk-toggleable__label-arrow:before {content: \"▸\";float: left;margin-right: 0.25em;color: #696969;}#sk-container-id-2 label.sk-toggleable__label-arrow:hover:before {color: black;}#sk-container-id-2 div.sk-estimator:hover label.sk-toggleable__label-arrow:before {color: black;}#sk-container-id-2 div.sk-toggleable__content {max-height: 0;max-width: 0;overflow: hidden;text-align: left;background-color: #f0f8ff;}#sk-container-id-2 div.sk-toggleable__content pre {margin: 0.2em;color: black;border-radius: 0.25em;background-color: #f0f8ff;}#sk-container-id-2 input.sk-toggleable__control:checked~div.sk-toggleable__content {max-height: 200px;max-width: 100%;overflow: auto;}#sk-container-id-2 input.sk-toggleable__control:checked~label.sk-toggleable__label-arrow:before {content: \"▾\";}#sk-container-id-2 div.sk-estimator input.sk-toggleable__control:checked~label.sk-toggleable__label {background-color: #d4ebff;}#sk-container-id-2 div.sk-label input.sk-toggleable__control:checked~label.sk-toggleable__label {background-color: #d4ebff;}#sk-container-id-2 input.sk-hidden--visually {border: 0;clip: rect(1px 1px 1px 1px);clip: rect(1px, 1px, 1px, 1px);height: 1px;margin: -1px;overflow: hidden;padding: 0;position: absolute;width: 1px;}#sk-container-id-2 div.sk-estimator {font-family: monospace;background-color: #f0f8ff;border: 1px dotted black;border-radius: 0.25em;box-sizing: border-box;margin-bottom: 0.5em;}#sk-container-id-2 div.sk-estimator:hover {background-color: #d4ebff;}#sk-container-id-2 div.sk-parallel-item::after {content: \"\";width: 100%;border-bottom: 1px solid gray;flex-grow: 1;}#sk-container-id-2 div.sk-label:hover label.sk-toggleable__label {background-color: #d4ebff;}#sk-container-id-2 div.sk-serial::before {content: \"\";position: absolute;border-left: 1px solid gray;box-sizing: border-box;top: 0;bottom: 0;left: 50%;z-index: 0;}#sk-container-id-2 div.sk-serial {display: flex;flex-direction: column;align-items: center;background-color: white;padding-right: 0.2em;padding-left: 0.2em;position: relative;}#sk-container-id-2 div.sk-item {position: relative;z-index: 1;}#sk-container-id-2 div.sk-parallel {display: flex;align-items: stretch;justify-content: center;background-color: white;position: relative;}#sk-container-id-2 div.sk-item::before, #sk-container-id-2 div.sk-parallel-item::before {content: \"\";position: absolute;border-left: 1px solid gray;box-sizing: border-box;top: 0;bottom: 0;left: 50%;z-index: -1;}#sk-container-id-2 div.sk-parallel-item {display: flex;flex-direction: column;z-index: 1;position: relative;background-color: white;}#sk-container-id-2 div.sk-parallel-item:first-child::after {align-self: flex-end;width: 50%;}#sk-container-id-2 div.sk-parallel-item:last-child::after {align-self: flex-start;width: 50%;}#sk-container-id-2 div.sk-parallel-item:only-child::after {width: 0;}#sk-container-id-2 div.sk-dashed-wrapped {border: 1px dashed gray;margin: 0 0.4em 0.5em 0.4em;box-sizing: border-box;padding-bottom: 0.4em;background-color: white;}#sk-container-id-2 div.sk-label label {font-family: monospace;font-weight: bold;display: inline-block;line-height: 1.2em;}#sk-container-id-2 div.sk-label-container {text-align: center;}#sk-container-id-2 div.sk-container {/* jupyter's `normalize.less` sets `[hidden] { display: none; }` but bootstrap.min.css set `[hidden] { display: none !important; }` so we also need the `!important` here to be able to override the default hidden behavior on the sphinx rendered scikit-learn.org. See: https://github.com/scikit-learn/scikit-learn/issues/21755 */display: inline-block !important;position: relative;}#sk-container-id-2 div.sk-text-repr-fallback {display: none;}</style><div id=\"sk-container-id-2\" class=\"sk-top-container\"><div class=\"sk-text-repr-fallback\"><pre>DecisionTreeClassifier(criterion=&#x27;entropy&#x27;, min_samples_leaf=100,\n",
              "                       min_samples_split=200, random_state=0)</pre><b>In a Jupyter environment, please rerun this cell to show the HTML representation or trust the notebook. <br />On GitHub, the HTML representation is unable to render, please try loading this page with nbviewer.org.</b></div><div class=\"sk-container\" hidden><div class=\"sk-item\"><div class=\"sk-estimator sk-toggleable\"><input class=\"sk-toggleable__control sk-hidden--visually\" id=\"sk-estimator-id-2\" type=\"checkbox\" checked><label for=\"sk-estimator-id-2\" class=\"sk-toggleable__label sk-toggleable__label-arrow\">DecisionTreeClassifier</label><div class=\"sk-toggleable__content\"><pre>DecisionTreeClassifier(criterion=&#x27;entropy&#x27;, min_samples_leaf=100,\n",
              "                       min_samples_split=200, random_state=0)</pre></div></div></div></div></div>"
            ]
          },
          "metadata": {},
          "execution_count": 22
        }
      ],
      "source": [
        "#---------------------------------------------------------------------------\n",
        "## Calculando a KNN - Aprendizado supervisionado  \n",
        "#---------------------------------------------------------------------------\n",
        "from sklearn.neighbors import KNeighborsClassifier\n",
        "Classifier_kNN = KNeighborsClassifier(n_neighbors=30, weights='uniform', algorithm='brute', p=2)\n",
        "Classifier_kNN.fit(X_train, y_train)\n",
        "\n",
        "# Árvore de decisão com dados de treinamento\n",
        "from sklearn.tree import DecisionTreeClassifier\n",
        "dtree = DecisionTreeClassifier(class_weight=None, criterion='entropy', max_depth=None,\n",
        "                       max_features=None, max_leaf_nodes=None,\n",
        "                       min_impurity_decrease=0.0, #min_impurity_split=None,\n",
        "                       min_samples_leaf=100, min_samples_split=200,\n",
        "                       min_weight_fraction_leaf=0.0,\n",
        "                       random_state=0, splitter='best')\n",
        "dtree.fit(X_train, y_train)\n"
      ]
    },
    {
      "cell_type": "code",
      "execution_count": 23,
      "metadata": {
        "id": "9lVKH7r2RTBR"
      },
      "outputs": [],
      "source": [
        "#---------------------------------------------------------------------------\n",
        "## Previsão usando todos os conjuntos de teste\n",
        "#---------------------------------------------------------------------------\n",
        "# Rede Neural\n",
        "y_pred_test_RLog  = LogisticReg.predict(X_test)\n",
        "y_pred_test_RNA_P  = LogisticReg.predict_proba(X_test)\n",
        "\n",
        "# Knn\n",
        "y_pred_test_KNN    = Classifier_kNN.predict(X_test)\n",
        "#y_pred_test_KNN_P  = Classifier_kNN.predict_proba(X_test)\n",
        "\n",
        "#  Árvore\n",
        "y_pred_test_DT = dtree.predict(X_test)"
      ]
    },
    {
      "cell_type": "code",
      "execution_count": 24,
      "metadata": {
        "colab": {
          "base_uri": "https://localhost:8080/"
        },
        "id": "TUL7zD-oRS9v",
        "outputId": "9c9d95fa-e2cd-477d-d1d8-ce10abe85043"
      },
      "outputs": [
        {
          "output_type": "stream",
          "name": "stdout",
          "text": [
            "\n",
            "---------------------------------------------\n",
            "Regressão Logística  - Erro de Classificação: 0.4846771251368114\n",
            "Regressão Logística  - Acurácia: 0.5153228748631886\n",
            "KNN                  - Erro de Classificação: 0.49139000364830354\n",
            "KNN                  - Acurácia: 0.5086099963516965\n",
            "Árvore               - Erro de Classificação: 0.4848048157606713\n",
            "Árvore               - Acurácia: 0.5151951842393288\n",
            "----------------------------------------------\n"
          ]
        }
      ],
      "source": [
        "##-----------------------------------------------------------------\n",
        "## Cálculo dos erros da classificação e Matriz de confusão da RNA\n",
        "##-----------------------------------------------------------------\n",
        "Erro_RLog_Classificacao = np.mean(np.absolute(y_pred_test_RLog - y_test))\n",
        "Erro_KNN_Classificacao = np.mean(np.absolute(y_pred_test_KNN - y_test))\n",
        "Erro_DT_Classificacao = np.mean(np.absolute(y_pred_test_DT - y_test))\n",
        "\n",
        "print()\n",
        "print('---------------------------------------------')\n",
        "print('Regressão Logística  - Erro de Classificação:',Erro_RLog_Classificacao)\n",
        "print('Regressão Logística  - Acurácia:',1-Erro_RLog_Classificacao)\n",
        "print('KNN                  - Erro de Classificação:',Erro_KNN_Classificacao)\n",
        "print('KNN                  - Acurácia:',1-Erro_KNN_Classificacao)\n",
        "print('Árvore               - Erro de Classificação:',Erro_DT_Classificacao)\n",
        "print('Árvore               - Acurácia:',1-Erro_DT_Classificacao)\n",
        "print('----------------------------------------------')"
      ]
    },
    {
      "cell_type": "code",
      "execution_count": null,
      "metadata": {
        "id": "XCRn-y6aRS2w",
        "colab": {
          "base_uri": "https://localhost:8080/"
        },
        "outputId": "a351713d-75e0-4fe7-ce2a-da7ecf01f903"
      },
      "outputs": [
        {
          "output_type": "stream",
          "name": "stdout",
          "text": [
            "---------------------------------------------------------------\n",
            "k Erro de Classificação\n",
            "1 0.49968989419919735\n",
            "5 0.4949653411163809\n",
            "10 0.4944636993797884\n"
          ]
        }
      ],
      "source": [
        "from sklearn.neighbors import KNeighborsClassifier\n",
        "import matplotlib.pyplot as plt\n",
        "\n",
        "gx = []\n",
        "gy = []\n",
        "\n",
        "# Para k=1\n",
        "Classifier_kNN = KNeighborsClassifier(n_neighbors=1, weights='uniform', algorithm='brute', p=2)\n",
        "Classifier_kNN.fit(X_train, y_train)\n",
        "y_pred_test_KNN    = Classifier_kNN.predict(X_test)\n",
        "Erro_KNN_Classificacao = np.mean(np.absolute(y_pred_test_KNN - y_test))\n",
        "print('---------------------------------------------------------------')\n",
        "print('k', 'Erro de Classificação')\n",
        "print('1',Erro_KNN_Classificacao)\n",
        "gx.append(1)\n",
        "gy.append(Erro_KNN_Classificacao)\n",
        "\n",
        "\n",
        "## Loop para achar o melhor k\n",
        "for k in range(5, 201, 5):\n",
        "    Classifier_kNN = KNeighborsClassifier(n_neighbors=k, weights='uniform', algorithm='brute', p=2)\n",
        "    Classifier_kNN.fit(X_train, y_train)\n",
        "    y_pred_test_KNN    = Classifier_kNN.predict(X_test)\n",
        "\n",
        "    ## Cálculo dos erros da classificação e Matriz de confusão da RNA\n",
        "    Erro_KNN_Classificacao = np.mean(np.absolute(y_pred_test_KNN - y_test))\n",
        "    print(k,Erro_KNN_Classificacao)\n",
        "    \n",
        "    gx.append(k)\n",
        "    gy.append(Erro_KNN_Classificacao)\n",
        "print('---------------------------------------------------------------')\n",
        "\n",
        "\n",
        "print('------------------------- Gráfico -----------------------------')\n",
        "print()\n",
        "plt.plot(gx,gy)\n",
        "plt.plot(gx,gy, 'bo') \n",
        "plt.title('Escolha do Melhor k')\n",
        "plt.ylabel('Erro de Classificação')\n",
        "plt.xlabel('Valor de k')\n",
        "plt.show()\n",
        "\n"
      ]
    },
    {
      "cell_type": "code",
      "execution_count": null,
      "metadata": {
        "id": "QKn5OdTrRWor"
      },
      "outputs": [],
      "source": []
    },
    {
      "cell_type": "code",
      "execution_count": null,
      "metadata": {
        "id": "V1Zzy-pdRWmA"
      },
      "outputs": [],
      "source": []
    },
    {
      "cell_type": "code",
      "execution_count": null,
      "metadata": {
        "id": "pqyWlP24RWjI"
      },
      "outputs": [],
      "source": []
    },
    {
      "cell_type": "code",
      "execution_count": null,
      "metadata": {
        "id": "ur1UxnzXRWgt"
      },
      "outputs": [],
      "source": []
    },
    {
      "cell_type": "code",
      "execution_count": null,
      "metadata": {
        "colab": {
          "base_uri": "https://localhost:8080/"
        },
        "id": "WusK8X3kuWyL",
        "outputId": "d83d493e-e5e1-4a81-eb63-dda5b3cc03fc"
      },
      "outputs": [
        {
          "name": "stdout",
          "output_type": "stream",
          "text": [
            "--> DADOS EXPORTADOS\n"
          ]
        }
      ],
      "source": [
        "## Separar conjuntos trn e tst\n",
        "#############################################\n",
        "from sklearn.model_selection import train_test_split\n",
        "train, test = train_test_split(df, test_size=0.25, random_state = 323)\n",
        "train.insert(0,'CONJUNTO','TRN')  # Cria coluna de treinamento\n",
        "test.insert(0,'CONJUNTO','TST')  # Cria coluna de test\n",
        "df = pd.concat([test, train])\n",
        "df.to_csv('pre_processamento.csv',sep='\\t') # Exporta para CSV\n",
        "print('--> DADOS EXPORTADOS')"
      ]
    },
    {
      "cell_type": "code",
      "execution_count": null,
      "metadata": {
        "id": "aSZXWfxL3gor"
      },
      "outputs": [],
      "source": [
        "## Demais variáveis  ---> ALUNOS\n",
        "\n",
        "#############################################\n",
        "## SELECIONAR VARIÁVEIS PRÉ-PROCESSADAS\n",
        "#############################################\n",
        "\n",
        "cols_in = ['FLAG_OWN_CAR',\n",
        "           'FLAG_OWN_REALTY',\n",
        "           'FLAG_PHONE',\n",
        "           'AMT_INCOME_TOTAL',\n",
        "           'HAS_CREDIT_CARD'       \n",
        "]"
      ]
    },
    {
      "cell_type": "code",
      "execution_count": null,
      "metadata": {
        "id": "OHjsglrR37N6"
      },
      "outputs": [],
      "source": [
        "#############################################\n",
        "## SEPARANDO OS CONJUNTOS\n",
        "#############################################\n",
        "X_train = df.query(\"CONJUNTO == 'TRN'\")\n",
        "X_test  = df.query(\"CONJUNTO == 'TST'\")\n",
        "X_train = X_train[cols_in]\n",
        "X_test  = X_test[cols_in]\n",
        "\n",
        "# Refazer e retirar Alvos\n",
        "y_train = X_train['HAS_CREDIT_CARD'] #HAS_CREDIT_CARD É A VARIÁVEL ALVO!\n",
        "y_test  = X_test['HAS_CREDIT_CARD']\n",
        "del X_train['HAS_CREDIT_CARD']\n",
        "del X_test['HAS_CREDIT_CARD']\n"
      ]
    },
    {
      "cell_type": "code",
      "execution_count": null,
      "metadata": {
        "id": "cMQAXyrE4LFE"
      },
      "outputs": [],
      "source": [
        "#---------------------------------------------------------------------------\n",
        "## Selecionando Atributos com RFE - Recursive Feature Elimination\n",
        "#---------------------------------------------------------------------------\n",
        "# feature extraction\n",
        "from sklearn.linear_model import LogisticRegression\n",
        "from sklearn.feature_selection import RFE\n",
        "\n",
        "model = LogisticRegression()\n",
        "selected = RFE(model,step=1,n_features_to_select=8).fit(X_train, y_train)"
      ]
    },
    {
      "cell_type": "code",
      "execution_count": null,
      "metadata": {
        "colab": {
          "base_uri": "https://localhost:8080/"
        },
        "id": "3HAIuWYe4PFB",
        "outputId": "3f100b77-e11f-4663-c435-c635b1db7aed"
      },
      "outputs": [
        {
          "name": "stdout",
          "output_type": "stream",
          "text": [
            "--------------------------------------------------\n",
            "---  SELEÇÃO DE VARIÁVEIS  ---\n",
            "--------------------------------------------------\n",
            "Quantidade de Variáveis: 4\n",
            "             -> FLAG_OWN_CAR                       \n",
            "             -> FLAG_OWN_REALTY                    \n",
            "             -> FLAG_PHONE                         \n",
            "             -> AMT_INCOME_TOTAL                   \n",
            "--------------------------------------------------\n"
          ]
        }
      ],
      "source": [
        "print('--------------------------------------------------')\n",
        "print('---  SELEÇÃO DE VARIÁVEIS  ---')\n",
        "print('--------------------------------------------------')\n",
        "print(\"Quantidade de Variáveis: %d\" % selected.n_features_)\n",
        "used_cols = []\n",
        "for i in range(0, len(selected.support_)):\n",
        "    if selected.support_[i]: \n",
        "        used_cols.append(X_train.columns[i]) \n",
        "        print('             -> {:30}     '.format(X_train.columns[i]))\n",
        "print('--------------------------------------------------')\n",
        "\n",
        "X_train = X_train[used_cols]     # Carrega colunas de entrada selecionadas por RFE\n",
        "X_test = X_test[used_cols]       # Carrega colunas de entrada selecionadas por RFE\n"
      ]
    },
    {
      "cell_type": "code",
      "execution_count": null,
      "metadata": {
        "colab": {
          "base_uri": "https://localhost:8080/",
          "height": 75
        },
        "id": "tpBsrUH04SJG",
        "outputId": "18011523-163a-4176-dd89-80b9d45245d9"
      },
      "outputs": [
        {
          "data": {
            "text/html": [
              "<style>#sk-container-id-1 {color: black;background-color: white;}#sk-container-id-1 pre{padding: 0;}#sk-container-id-1 div.sk-toggleable {background-color: white;}#sk-container-id-1 label.sk-toggleable__label {cursor: pointer;display: block;width: 100%;margin-bottom: 0;padding: 0.3em;box-sizing: border-box;text-align: center;}#sk-container-id-1 label.sk-toggleable__label-arrow:before {content: \"▸\";float: left;margin-right: 0.25em;color: #696969;}#sk-container-id-1 label.sk-toggleable__label-arrow:hover:before {color: black;}#sk-container-id-1 div.sk-estimator:hover label.sk-toggleable__label-arrow:before {color: black;}#sk-container-id-1 div.sk-toggleable__content {max-height: 0;max-width: 0;overflow: hidden;text-align: left;background-color: #f0f8ff;}#sk-container-id-1 div.sk-toggleable__content pre {margin: 0.2em;color: black;border-radius: 0.25em;background-color: #f0f8ff;}#sk-container-id-1 input.sk-toggleable__control:checked~div.sk-toggleable__content {max-height: 200px;max-width: 100%;overflow: auto;}#sk-container-id-1 input.sk-toggleable__control:checked~label.sk-toggleable__label-arrow:before {content: \"▾\";}#sk-container-id-1 div.sk-estimator input.sk-toggleable__control:checked~label.sk-toggleable__label {background-color: #d4ebff;}#sk-container-id-1 div.sk-label input.sk-toggleable__control:checked~label.sk-toggleable__label {background-color: #d4ebff;}#sk-container-id-1 input.sk-hidden--visually {border: 0;clip: rect(1px 1px 1px 1px);clip: rect(1px, 1px, 1px, 1px);height: 1px;margin: -1px;overflow: hidden;padding: 0;position: absolute;width: 1px;}#sk-container-id-1 div.sk-estimator {font-family: monospace;background-color: #f0f8ff;border: 1px dotted black;border-radius: 0.25em;box-sizing: border-box;margin-bottom: 0.5em;}#sk-container-id-1 div.sk-estimator:hover {background-color: #d4ebff;}#sk-container-id-1 div.sk-parallel-item::after {content: \"\";width: 100%;border-bottom: 1px solid gray;flex-grow: 1;}#sk-container-id-1 div.sk-label:hover label.sk-toggleable__label {background-color: #d4ebff;}#sk-container-id-1 div.sk-serial::before {content: \"\";position: absolute;border-left: 1px solid gray;box-sizing: border-box;top: 0;bottom: 0;left: 50%;z-index: 0;}#sk-container-id-1 div.sk-serial {display: flex;flex-direction: column;align-items: center;background-color: white;padding-right: 0.2em;padding-left: 0.2em;position: relative;}#sk-container-id-1 div.sk-item {position: relative;z-index: 1;}#sk-container-id-1 div.sk-parallel {display: flex;align-items: stretch;justify-content: center;background-color: white;position: relative;}#sk-container-id-1 div.sk-item::before, #sk-container-id-1 div.sk-parallel-item::before {content: \"\";position: absolute;border-left: 1px solid gray;box-sizing: border-box;top: 0;bottom: 0;left: 50%;z-index: -1;}#sk-container-id-1 div.sk-parallel-item {display: flex;flex-direction: column;z-index: 1;position: relative;background-color: white;}#sk-container-id-1 div.sk-parallel-item:first-child::after {align-self: flex-end;width: 50%;}#sk-container-id-1 div.sk-parallel-item:last-child::after {align-self: flex-start;width: 50%;}#sk-container-id-1 div.sk-parallel-item:only-child::after {width: 0;}#sk-container-id-1 div.sk-dashed-wrapped {border: 1px dashed gray;margin: 0 0.4em 0.5em 0.4em;box-sizing: border-box;padding-bottom: 0.4em;background-color: white;}#sk-container-id-1 div.sk-label label {font-family: monospace;font-weight: bold;display: inline-block;line-height: 1.2em;}#sk-container-id-1 div.sk-label-container {text-align: center;}#sk-container-id-1 div.sk-container {/* jupyter's `normalize.less` sets `[hidden] { display: none; }` but bootstrap.min.css set `[hidden] { display: none !important; }` so we also need the `!important` here to be able to override the default hidden behavior on the sphinx rendered scikit-learn.org. See: https://github.com/scikit-learn/scikit-learn/issues/21755 */display: inline-block !important;position: relative;}#sk-container-id-1 div.sk-text-repr-fallback {display: none;}</style><div id=\"sk-container-id-1\" class=\"sk-top-container\"><div class=\"sk-text-repr-fallback\"><pre>LogisticRegression()</pre><b>In a Jupyter environment, please rerun this cell to show the HTML representation or trust the notebook. <br />On GitHub, the HTML representation is unable to render, please try loading this page with nbviewer.org.</b></div><div class=\"sk-container\" hidden><div class=\"sk-item\"><div class=\"sk-estimator sk-toggleable\"><input class=\"sk-toggleable__control sk-hidden--visually\" id=\"sk-estimator-id-1\" type=\"checkbox\" checked><label for=\"sk-estimator-id-1\" class=\"sk-toggleable__label sk-toggleable__label-arrow\">LogisticRegression</label><div class=\"sk-toggleable__content\"><pre>LogisticRegression()</pre></div></div></div></div></div>"
            ],
            "text/plain": [
              "LogisticRegression()"
            ]
          },
          "execution_count": 13,
          "metadata": {},
          "output_type": "execute_result"
        }
      ],
      "source": [
        "# Regressão Logística \n",
        "from sklearn.linear_model import LogisticRegression\n",
        "LogisticReg = LogisticRegression()\n",
        "LogisticReg.fit(X_train, y_train)\n",
        "# du.LogisticFormulaSQL(LogisticReg, X_train)   # Mostra a fórmula"
      ]
    },
    {
      "cell_type": "code",
      "execution_count": null,
      "metadata": {
        "colab": {
          "base_uri": "https://localhost:8080/",
          "height": 75
        },
        "id": "me9oD_Y94Vd8",
        "outputId": "859f1157-c43c-4f61-c541-0081a6f01b63"
      },
      "outputs": [
        {
          "data": {
            "text/html": [
              "<style>#sk-container-id-2 {color: black;background-color: white;}#sk-container-id-2 pre{padding: 0;}#sk-container-id-2 div.sk-toggleable {background-color: white;}#sk-container-id-2 label.sk-toggleable__label {cursor: pointer;display: block;width: 100%;margin-bottom: 0;padding: 0.3em;box-sizing: border-box;text-align: center;}#sk-container-id-2 label.sk-toggleable__label-arrow:before {content: \"▸\";float: left;margin-right: 0.25em;color: #696969;}#sk-container-id-2 label.sk-toggleable__label-arrow:hover:before {color: black;}#sk-container-id-2 div.sk-estimator:hover label.sk-toggleable__label-arrow:before {color: black;}#sk-container-id-2 div.sk-toggleable__content {max-height: 0;max-width: 0;overflow: hidden;text-align: left;background-color: #f0f8ff;}#sk-container-id-2 div.sk-toggleable__content pre {margin: 0.2em;color: black;border-radius: 0.25em;background-color: #f0f8ff;}#sk-container-id-2 input.sk-toggleable__control:checked~div.sk-toggleable__content {max-height: 200px;max-width: 100%;overflow: auto;}#sk-container-id-2 input.sk-toggleable__control:checked~label.sk-toggleable__label-arrow:before {content: \"▾\";}#sk-container-id-2 div.sk-estimator input.sk-toggleable__control:checked~label.sk-toggleable__label {background-color: #d4ebff;}#sk-container-id-2 div.sk-label input.sk-toggleable__control:checked~label.sk-toggleable__label {background-color: #d4ebff;}#sk-container-id-2 input.sk-hidden--visually {border: 0;clip: rect(1px 1px 1px 1px);clip: rect(1px, 1px, 1px, 1px);height: 1px;margin: -1px;overflow: hidden;padding: 0;position: absolute;width: 1px;}#sk-container-id-2 div.sk-estimator {font-family: monospace;background-color: #f0f8ff;border: 1px dotted black;border-radius: 0.25em;box-sizing: border-box;margin-bottom: 0.5em;}#sk-container-id-2 div.sk-estimator:hover {background-color: #d4ebff;}#sk-container-id-2 div.sk-parallel-item::after {content: \"\";width: 100%;border-bottom: 1px solid gray;flex-grow: 1;}#sk-container-id-2 div.sk-label:hover label.sk-toggleable__label {background-color: #d4ebff;}#sk-container-id-2 div.sk-serial::before {content: \"\";position: absolute;border-left: 1px solid gray;box-sizing: border-box;top: 0;bottom: 0;left: 50%;z-index: 0;}#sk-container-id-2 div.sk-serial {display: flex;flex-direction: column;align-items: center;background-color: white;padding-right: 0.2em;padding-left: 0.2em;position: relative;}#sk-container-id-2 div.sk-item {position: relative;z-index: 1;}#sk-container-id-2 div.sk-parallel {display: flex;align-items: stretch;justify-content: center;background-color: white;position: relative;}#sk-container-id-2 div.sk-item::before, #sk-container-id-2 div.sk-parallel-item::before {content: \"\";position: absolute;border-left: 1px solid gray;box-sizing: border-box;top: 0;bottom: 0;left: 50%;z-index: -1;}#sk-container-id-2 div.sk-parallel-item {display: flex;flex-direction: column;z-index: 1;position: relative;background-color: white;}#sk-container-id-2 div.sk-parallel-item:first-child::after {align-self: flex-end;width: 50%;}#sk-container-id-2 div.sk-parallel-item:last-child::after {align-self: flex-start;width: 50%;}#sk-container-id-2 div.sk-parallel-item:only-child::after {width: 0;}#sk-container-id-2 div.sk-dashed-wrapped {border: 1px dashed gray;margin: 0 0.4em 0.5em 0.4em;box-sizing: border-box;padding-bottom: 0.4em;background-color: white;}#sk-container-id-2 div.sk-label label {font-family: monospace;font-weight: bold;display: inline-block;line-height: 1.2em;}#sk-container-id-2 div.sk-label-container {text-align: center;}#sk-container-id-2 div.sk-container {/* jupyter's `normalize.less` sets `[hidden] { display: none; }` but bootstrap.min.css set `[hidden] { display: none !important; }` so we also need the `!important` here to be able to override the default hidden behavior on the sphinx rendered scikit-learn.org. See: https://github.com/scikit-learn/scikit-learn/issues/21755 */display: inline-block !important;position: relative;}#sk-container-id-2 div.sk-text-repr-fallback {display: none;}</style><div id=\"sk-container-id-2\" class=\"sk-top-container\"><div class=\"sk-text-repr-fallback\"><pre>MLPClassifier()</pre><b>In a Jupyter environment, please rerun this cell to show the HTML representation or trust the notebook. <br />On GitHub, the HTML representation is unable to render, please try loading this page with nbviewer.org.</b></div><div class=\"sk-container\" hidden><div class=\"sk-item\"><div class=\"sk-estimator sk-toggleable\"><input class=\"sk-toggleable__control sk-hidden--visually\" id=\"sk-estimator-id-2\" type=\"checkbox\" checked><label for=\"sk-estimator-id-2\" class=\"sk-toggleable__label sk-toggleable__label-arrow\">MLPClassifier</label><div class=\"sk-toggleable__content\"><pre>MLPClassifier()</pre></div></div></div></div></div>"
            ],
            "text/plain": [
              "MLPClassifier()"
            ]
          },
          "execution_count": 14,
          "metadata": {},
          "output_type": "execute_result"
        }
      ],
      "source": [
        "# RNA\n",
        "from sklearn.neural_network import MLPClassifier\n",
        "RNA = MLPClassifier()\n",
        "RNA.fit(X_train, y_train)\n"
      ]
    },
    {
      "cell_type": "code",
      "execution_count": null,
      "metadata": {
        "id": "jePEev3M4X4s"
      },
      "outputs": [],
      "source": [
        "###################################################################\n",
        "## PREDIÇÃO\n",
        "###################################################################\n",
        "# Regressão Logística  \n",
        "y_pred_train_RL = LogisticReg.predict(X_train)\n",
        "y_pred_test_RL = LogisticReg.predict(X_test)\n",
        "y_pred_train_RL_P = LogisticReg.predict_proba(X_train)\n",
        "y_pred_test_RL_P = LogisticReg.predict_proba(X_test)\n",
        "# RNA\n",
        "y_pred_train_RNA = RNA.predict(X_train)\n",
        "y_pred_test_RNA = RNA.predict(X_test)\n",
        "y_pred_train_RNA_P = RNA.predict_proba(X_train)\n",
        "y_pred_test_RNA_P = RNA.predict_proba(X_test)"
      ]
    },
    {
      "cell_type": "code",
      "execution_count": null,
      "metadata": {
        "id": "Gibj_f-p4au2"
      },
      "outputs": [],
      "source": [
        "###################################################################\n",
        "## Montando um Data Frame (Matriz) com os resultados\n",
        "###################################################################\n",
        "\n",
        "# Conjunto de treinamento\n",
        "\n",
        "df_train = pd.DataFrame(y_pred_train_RL, columns=['CLASSIF_RL'])\n",
        "df_train['CLASSIF_RNA'] = y_pred_train_RNA\n",
        "df_train['REGRESSION_RL'] = [x for x in y_pred_train_RL_P[:,1]] \n",
        "df_train['REGRESSION_RNA'] = [x for x in y_pred_train_RNA_P[:,1]]\n",
        "df_train['TARGET'] = [x for x in y_train]\n",
        "df_train['TRN_TST'] = 'TRAIN'\n",
        "\n",
        "# Conjunto de test\n",
        "df_test = pd.DataFrame(y_pred_test_RL, columns=['CLASSIF_RL'])\n",
        "df_test['CLASSIF_RNA'] = y_pred_test_RNA\n",
        "df_test['REGRESSION_RL'] = [x for x in y_pred_test_RL_P[:,1]]  \n",
        "df_test['REGRESSION_RNA'] = [x for x in y_pred_test_RNA_P[:,1]]\n",
        "df_test['TARGET'] = [x for x in y_test]\n",
        "df_test['TRN_TST'] = 'TEST' \n",
        "\n",
        "# Juntando Conjunto de Teste e Treinamento\n",
        "df_total = pd.concat([df_test, df_train])\n"
      ]
    },
    {
      "cell_type": "code",
      "execution_count": null,
      "metadata": {
        "colab": {
          "base_uri": "https://localhost:8080/"
        },
        "id": "WyfOoRmv4dug",
        "outputId": "19f14d96-4889-4516-e849-2f2e603cc2ca"
      },
      "outputs": [
        {
          "name": "stdout",
          "output_type": "stream",
          "text": [
            "\n",
            "Rede Neural Acurácia              : 0.5127143378329077\n",
            "Rede Neural Erro de Classificação : 0.48728566216709235\n",
            "\n",
            "Reg. Logística - Acurácia              : 0.5127143378329077\n",
            "Reg. Logística - Erro de Classificação : 0.48728566216709235\n"
          ]
        }
      ],
      "source": [
        "###################################################################\n",
        "## AVALIAÇÃO DE DESEMPENHO\n",
        "###################################################################\n",
        "\n",
        "from sklearn import metrics\n",
        "Acc_RNA_Classificacao = metrics.accuracy_score(y_test, y_pred_test_RNA)\n",
        "Acc_RL_Classificacao  = metrics.accuracy_score(y_test, y_pred_test_RL)\n",
        "print()\n",
        "print('Rede Neural Acurácia              :',Acc_RNA_Classificacao)\n",
        "print('Rede Neural Erro de Classificação :',1 - Acc_RNA_Classificacao)\n",
        "print()\n",
        "print('Reg. Logística - Acurácia              :',Acc_RL_Classificacao)\n",
        "print('Reg. Logística - Erro de Classificação :',1 - Acc_RL_Classificacao)"
      ]
    }
  ],
  "metadata": {
    "colab": {
      "provenance": []
    },
    "kernelspec": {
      "display_name": "Python 3",
      "language": "python",
      "name": "python3"
    },
    "language_info": {
      "codemirror_mode": {
        "name": "ipython",
        "version": 3
      },
      "file_extension": ".py",
      "mimetype": "text/x-python",
      "name": "python",
      "nbconvert_exporter": "python",
      "pygments_lexer": "ipython3",
      "version": "3.8.5"
    }
  },
  "nbformat": 4,
  "nbformat_minor": 0
}